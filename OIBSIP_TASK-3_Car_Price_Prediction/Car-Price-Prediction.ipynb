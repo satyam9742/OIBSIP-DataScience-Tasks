{
 "cells": [
  {
   "cell_type": "code",
   "execution_count": 1,
   "id": "822ba8a4",
   "metadata": {},
   "outputs": [],
   "source": [
    "# Name :- Satyam Kumar\n",
    "# College :- Manipal University Jaipur"
   ]
  },
  {
   "cell_type": "code",
   "execution_count": 2,
   "id": "1c5f8f75",
   "metadata": {
    "execution": {
     "iopub.execute_input": "2022-11-19T10:15:03.942773Z",
     "iopub.status.busy": "2022-11-19T10:15:03.941994Z",
     "iopub.status.idle": "2022-11-19T10:15:05.358978Z",
     "shell.execute_reply": "2022-11-19T10:15:05.357942Z"
    },
    "papermill": {
     "duration": 1.43113,
     "end_time": "2022-11-19T10:15:05.361815",
     "exception": false,
     "start_time": "2022-11-19T10:15:03.930685",
     "status": "completed"
    },
    "tags": []
   },
   "outputs": [],
   "source": [
    "import numpy as np \n",
    "import pandas as pd\n",
    "import matplotlib.pyplot as plt\n",
    "import seaborn as sns\n",
    "from sklearn.model_selection import train_test_split\n",
    "from sklearn.linear_model import LinearRegression\n",
    "from sklearn.linear_model import Lasso\n",
    "from sklearn import metrics"
   ]
  },
  {
   "cell_type": "code",
   "execution_count": 3,
   "id": "186c1a7f",
   "metadata": {
    "execution": {
     "iopub.execute_input": "2022-11-19T10:15:05.378965Z",
     "iopub.status.busy": "2022-11-19T10:15:05.378516Z",
     "iopub.status.idle": "2022-11-19T10:15:05.397886Z",
     "shell.execute_reply": "2022-11-19T10:15:05.396535Z"
    },
    "papermill": {
     "duration": 0.031222,
     "end_time": "2022-11-19T10:15:05.400860",
     "exception": false,
     "start_time": "2022-11-19T10:15:05.369638",
     "status": "completed"
    },
    "tags": []
   },
   "outputs": [],
   "source": [
    "# loading the data from csv file to pandas dataframe\n",
    "car_dataset = pd.read_csv('C://Users//satya//Documents//Oasis_InfoByte//Car_Price_Prediction//Datasets//car data.csv')"
   ]
  },
  {
   "cell_type": "code",
   "execution_count": 4,
   "id": "8a45918f",
   "metadata": {
    "execution": {
     "iopub.execute_input": "2022-11-19T10:15:05.418380Z",
     "iopub.status.busy": "2022-11-19T10:15:05.417254Z",
     "iopub.status.idle": "2022-11-19T10:15:05.440466Z",
     "shell.execute_reply": "2022-11-19T10:15:05.439291Z"
    },
    "papermill": {
     "duration": 0.034425,
     "end_time": "2022-11-19T10:15:05.442972",
     "exception": false,
     "start_time": "2022-11-19T10:15:05.408547",
     "status": "completed"
    },
    "tags": []
   },
   "outputs": [
    {
     "data": {
      "text/html": [
       "<div>\n",
       "<style scoped>\n",
       "    .dataframe tbody tr th:only-of-type {\n",
       "        vertical-align: middle;\n",
       "    }\n",
       "\n",
       "    .dataframe tbody tr th {\n",
       "        vertical-align: top;\n",
       "    }\n",
       "\n",
       "    .dataframe thead th {\n",
       "        text-align: right;\n",
       "    }\n",
       "</style>\n",
       "<table border=\"1\" class=\"dataframe\">\n",
       "  <thead>\n",
       "    <tr style=\"text-align: right;\">\n",
       "      <th></th>\n",
       "      <th>Car_Name</th>\n",
       "      <th>Year</th>\n",
       "      <th>Selling_Price</th>\n",
       "      <th>Present_Price</th>\n",
       "      <th>Driven_kms</th>\n",
       "      <th>Fuel_Type</th>\n",
       "      <th>Selling_type</th>\n",
       "      <th>Transmission</th>\n",
       "      <th>Owner</th>\n",
       "    </tr>\n",
       "  </thead>\n",
       "  <tbody>\n",
       "    <tr>\n",
       "      <th>0</th>\n",
       "      <td>ritz</td>\n",
       "      <td>2014</td>\n",
       "      <td>3.35</td>\n",
       "      <td>5.59</td>\n",
       "      <td>27000</td>\n",
       "      <td>Petrol</td>\n",
       "      <td>Dealer</td>\n",
       "      <td>Manual</td>\n",
       "      <td>0</td>\n",
       "    </tr>\n",
       "    <tr>\n",
       "      <th>1</th>\n",
       "      <td>sx4</td>\n",
       "      <td>2013</td>\n",
       "      <td>4.75</td>\n",
       "      <td>9.54</td>\n",
       "      <td>43000</td>\n",
       "      <td>Diesel</td>\n",
       "      <td>Dealer</td>\n",
       "      <td>Manual</td>\n",
       "      <td>0</td>\n",
       "    </tr>\n",
       "    <tr>\n",
       "      <th>2</th>\n",
       "      <td>ciaz</td>\n",
       "      <td>2017</td>\n",
       "      <td>7.25</td>\n",
       "      <td>9.85</td>\n",
       "      <td>6900</td>\n",
       "      <td>Petrol</td>\n",
       "      <td>Dealer</td>\n",
       "      <td>Manual</td>\n",
       "      <td>0</td>\n",
       "    </tr>\n",
       "    <tr>\n",
       "      <th>3</th>\n",
       "      <td>wagon r</td>\n",
       "      <td>2011</td>\n",
       "      <td>2.85</td>\n",
       "      <td>4.15</td>\n",
       "      <td>5200</td>\n",
       "      <td>Petrol</td>\n",
       "      <td>Dealer</td>\n",
       "      <td>Manual</td>\n",
       "      <td>0</td>\n",
       "    </tr>\n",
       "    <tr>\n",
       "      <th>4</th>\n",
       "      <td>swift</td>\n",
       "      <td>2014</td>\n",
       "      <td>4.60</td>\n",
       "      <td>6.87</td>\n",
       "      <td>42450</td>\n",
       "      <td>Diesel</td>\n",
       "      <td>Dealer</td>\n",
       "      <td>Manual</td>\n",
       "      <td>0</td>\n",
       "    </tr>\n",
       "  </tbody>\n",
       "</table>\n",
       "</div>"
      ],
      "text/plain": [
       "  Car_Name  Year  Selling_Price  Present_Price  Driven_kms Fuel_Type  \\\n",
       "0     ritz  2014           3.35           5.59       27000    Petrol   \n",
       "1      sx4  2013           4.75           9.54       43000    Diesel   \n",
       "2     ciaz  2017           7.25           9.85        6900    Petrol   \n",
       "3  wagon r  2011           2.85           4.15        5200    Petrol   \n",
       "4    swift  2014           4.60           6.87       42450    Diesel   \n",
       "\n",
       "  Selling_type Transmission  Owner  \n",
       "0       Dealer       Manual      0  \n",
       "1       Dealer       Manual      0  \n",
       "2       Dealer       Manual      0  \n",
       "3       Dealer       Manual      0  \n",
       "4       Dealer       Manual      0  "
      ]
     },
     "execution_count": 4,
     "metadata": {},
     "output_type": "execute_result"
    }
   ],
   "source": [
    "# inspecting the first 5 rows of the dataframe\n",
    "car_dataset.head()"
   ]
  },
  {
   "cell_type": "code",
   "execution_count": 5,
   "id": "8d639684",
   "metadata": {
    "execution": {
     "iopub.execute_input": "2022-11-19T10:15:05.461391Z",
     "iopub.status.busy": "2022-11-19T10:15:05.460357Z",
     "iopub.status.idle": "2022-11-19T10:15:05.467344Z",
     "shell.execute_reply": "2022-11-19T10:15:05.466473Z"
    },
    "papermill": {
     "duration": 0.018903,
     "end_time": "2022-11-19T10:15:05.469584",
     "exception": false,
     "start_time": "2022-11-19T10:15:05.450681",
     "status": "completed"
    },
    "tags": []
   },
   "outputs": [
    {
     "data": {
      "text/plain": [
       "(301, 9)"
      ]
     },
     "execution_count": 5,
     "metadata": {},
     "output_type": "execute_result"
    }
   ],
   "source": [
    "# checking the number of rows and columns\n",
    "car_dataset.shape"
   ]
  },
  {
   "cell_type": "code",
   "execution_count": 6,
   "id": "de17c9aa",
   "metadata": {
    "execution": {
     "iopub.execute_input": "2022-11-19T10:15:05.489921Z",
     "iopub.status.busy": "2022-11-19T10:15:05.489136Z",
     "iopub.status.idle": "2022-11-19T10:15:05.514954Z",
     "shell.execute_reply": "2022-11-19T10:15:05.513715Z"
    },
    "papermill": {
     "duration": 0.038105,
     "end_time": "2022-11-19T10:15:05.517402",
     "exception": false,
     "start_time": "2022-11-19T10:15:05.479297",
     "status": "completed"
    },
    "tags": []
   },
   "outputs": [
    {
     "name": "stdout",
     "output_type": "stream",
     "text": [
      "<class 'pandas.core.frame.DataFrame'>\n",
      "RangeIndex: 301 entries, 0 to 300\n",
      "Data columns (total 9 columns):\n",
      " #   Column         Non-Null Count  Dtype  \n",
      "---  ------         --------------  -----  \n",
      " 0   Car_Name       301 non-null    object \n",
      " 1   Year           301 non-null    int64  \n",
      " 2   Selling_Price  301 non-null    float64\n",
      " 3   Present_Price  301 non-null    float64\n",
      " 4   Driven_kms     301 non-null    int64  \n",
      " 5   Fuel_Type      301 non-null    object \n",
      " 6   Selling_type   301 non-null    object \n",
      " 7   Transmission   301 non-null    object \n",
      " 8   Owner          301 non-null    int64  \n",
      "dtypes: float64(2), int64(3), object(4)\n",
      "memory usage: 21.3+ KB\n"
     ]
    }
   ],
   "source": [
    "# getting some information about the dataset\n",
    "car_dataset.info()"
   ]
  },
  {
   "cell_type": "code",
   "execution_count": 7,
   "id": "23d902e6",
   "metadata": {
    "execution": {
     "iopub.execute_input": "2022-11-19T10:15:05.535033Z",
     "iopub.status.busy": "2022-11-19T10:15:05.534627Z",
     "iopub.status.idle": "2022-11-19T10:15:05.544026Z",
     "shell.execute_reply": "2022-11-19T10:15:05.542949Z"
    },
    "papermill": {
     "duration": 0.020882,
     "end_time": "2022-11-19T10:15:05.546187",
     "exception": false,
     "start_time": "2022-11-19T10:15:05.525305",
     "status": "completed"
    },
    "tags": []
   },
   "outputs": [
    {
     "data": {
      "text/plain": [
       "Car_Name         0\n",
       "Year             0\n",
       "Selling_Price    0\n",
       "Present_Price    0\n",
       "Driven_kms       0\n",
       "Fuel_Type        0\n",
       "Selling_type     0\n",
       "Transmission     0\n",
       "Owner            0\n",
       "dtype: int64"
      ]
     },
     "execution_count": 7,
     "metadata": {},
     "output_type": "execute_result"
    }
   ],
   "source": [
    "# checking the number of missing values\n",
    "car_dataset.isnull().sum()"
   ]
  },
  {
   "cell_type": "code",
   "execution_count": 8,
   "id": "fb94a5aa",
   "metadata": {
    "execution": {
     "iopub.execute_input": "2022-11-19T10:15:05.564314Z",
     "iopub.status.busy": "2022-11-19T10:15:05.563654Z",
     "iopub.status.idle": "2022-11-19T10:15:05.572668Z",
     "shell.execute_reply": "2022-11-19T10:15:05.571369Z"
    },
    "papermill": {
     "duration": 0.020701,
     "end_time": "2022-11-19T10:15:05.575014",
     "exception": false,
     "start_time": "2022-11-19T10:15:05.554313",
     "status": "completed"
    },
    "tags": []
   },
   "outputs": [
    {
     "name": "stdout",
     "output_type": "stream",
     "text": [
      "Petrol    239\n",
      "Diesel     60\n",
      "CNG         2\n",
      "Name: Fuel_Type, dtype: int64\n",
      "Dealer        195\n",
      "Individual    106\n",
      "Name: Selling_type, dtype: int64\n",
      "Manual       261\n",
      "Automatic     40\n",
      "Name: Transmission, dtype: int64\n"
     ]
    }
   ],
   "source": [
    "# checking the distribution of categorical data\n",
    "print(car_dataset.Fuel_Type.value_counts())\n",
    "print(car_dataset.Selling_type.value_counts())\n",
    "print(car_dataset.Transmission.value_counts())"
   ]
  },
  {
   "cell_type": "code",
   "execution_count": 9,
   "id": "d6f36118",
   "metadata": {
    "execution": {
     "iopub.execute_input": "2022-11-19T10:15:05.593641Z",
     "iopub.status.busy": "2022-11-19T10:15:05.592606Z",
     "iopub.status.idle": "2022-11-19T10:15:05.603312Z",
     "shell.execute_reply": "2022-11-19T10:15:05.602351Z"
    },
    "papermill": {
     "duration": 0.022593,
     "end_time": "2022-11-19T10:15:05.605770",
     "exception": false,
     "start_time": "2022-11-19T10:15:05.583177",
     "status": "completed"
    },
    "tags": []
   },
   "outputs": [],
   "source": [
    "# encoding \"Fuel_Type\" Column\n",
    "car_dataset.replace({'Fuel_Type':{'Petrol':0,'Diesel':1,'CNG':2}},inplace=True)\n",
    "\n",
    "# encoding \"Seller_Type\" Column\n",
    "car_dataset.replace({'Selling_type':{'Dealer':0,'Individual':1}},inplace=True)\n",
    "\n",
    "# encoding \"Transmission\" Column\n",
    "car_dataset.replace({'Transmission':{'Manual':0,'Automatic':1}},inplace=True)"
   ]
  },
  {
   "cell_type": "code",
   "execution_count": 10,
   "id": "7867b2cc",
   "metadata": {
    "execution": {
     "iopub.execute_input": "2022-11-19T10:15:05.624946Z",
     "iopub.status.busy": "2022-11-19T10:15:05.623955Z",
     "iopub.status.idle": "2022-11-19T10:15:05.638126Z",
     "shell.execute_reply": "2022-11-19T10:15:05.637002Z"
    },
    "papermill": {
     "duration": 0.026269,
     "end_time": "2022-11-19T10:15:05.640303",
     "exception": false,
     "start_time": "2022-11-19T10:15:05.614034",
     "status": "completed"
    },
    "tags": []
   },
   "outputs": [
    {
     "data": {
      "text/html": [
       "<div>\n",
       "<style scoped>\n",
       "    .dataframe tbody tr th:only-of-type {\n",
       "        vertical-align: middle;\n",
       "    }\n",
       "\n",
       "    .dataframe tbody tr th {\n",
       "        vertical-align: top;\n",
       "    }\n",
       "\n",
       "    .dataframe thead th {\n",
       "        text-align: right;\n",
       "    }\n",
       "</style>\n",
       "<table border=\"1\" class=\"dataframe\">\n",
       "  <thead>\n",
       "    <tr style=\"text-align: right;\">\n",
       "      <th></th>\n",
       "      <th>Car_Name</th>\n",
       "      <th>Year</th>\n",
       "      <th>Selling_Price</th>\n",
       "      <th>Present_Price</th>\n",
       "      <th>Driven_kms</th>\n",
       "      <th>Fuel_Type</th>\n",
       "      <th>Selling_type</th>\n",
       "      <th>Transmission</th>\n",
       "      <th>Owner</th>\n",
       "    </tr>\n",
       "  </thead>\n",
       "  <tbody>\n",
       "    <tr>\n",
       "      <th>0</th>\n",
       "      <td>ritz</td>\n",
       "      <td>2014</td>\n",
       "      <td>3.35</td>\n",
       "      <td>5.59</td>\n",
       "      <td>27000</td>\n",
       "      <td>0</td>\n",
       "      <td>0</td>\n",
       "      <td>0</td>\n",
       "      <td>0</td>\n",
       "    </tr>\n",
       "    <tr>\n",
       "      <th>1</th>\n",
       "      <td>sx4</td>\n",
       "      <td>2013</td>\n",
       "      <td>4.75</td>\n",
       "      <td>9.54</td>\n",
       "      <td>43000</td>\n",
       "      <td>1</td>\n",
       "      <td>0</td>\n",
       "      <td>0</td>\n",
       "      <td>0</td>\n",
       "    </tr>\n",
       "    <tr>\n",
       "      <th>2</th>\n",
       "      <td>ciaz</td>\n",
       "      <td>2017</td>\n",
       "      <td>7.25</td>\n",
       "      <td>9.85</td>\n",
       "      <td>6900</td>\n",
       "      <td>0</td>\n",
       "      <td>0</td>\n",
       "      <td>0</td>\n",
       "      <td>0</td>\n",
       "    </tr>\n",
       "    <tr>\n",
       "      <th>3</th>\n",
       "      <td>wagon r</td>\n",
       "      <td>2011</td>\n",
       "      <td>2.85</td>\n",
       "      <td>4.15</td>\n",
       "      <td>5200</td>\n",
       "      <td>0</td>\n",
       "      <td>0</td>\n",
       "      <td>0</td>\n",
       "      <td>0</td>\n",
       "    </tr>\n",
       "    <tr>\n",
       "      <th>4</th>\n",
       "      <td>swift</td>\n",
       "      <td>2014</td>\n",
       "      <td>4.60</td>\n",
       "      <td>6.87</td>\n",
       "      <td>42450</td>\n",
       "      <td>1</td>\n",
       "      <td>0</td>\n",
       "      <td>0</td>\n",
       "      <td>0</td>\n",
       "    </tr>\n",
       "  </tbody>\n",
       "</table>\n",
       "</div>"
      ],
      "text/plain": [
       "  Car_Name  Year  Selling_Price  Present_Price  Driven_kms  Fuel_Type  \\\n",
       "0     ritz  2014           3.35           5.59       27000          0   \n",
       "1      sx4  2013           4.75           9.54       43000          1   \n",
       "2     ciaz  2017           7.25           9.85        6900          0   \n",
       "3  wagon r  2011           2.85           4.15        5200          0   \n",
       "4    swift  2014           4.60           6.87       42450          1   \n",
       "\n",
       "   Selling_type  Transmission  Owner  \n",
       "0             0             0      0  \n",
       "1             0             0      0  \n",
       "2             0             0      0  \n",
       "3             0             0      0  \n",
       "4             0             0      0  "
      ]
     },
     "execution_count": 10,
     "metadata": {},
     "output_type": "execute_result"
    }
   ],
   "source": [
    "car_dataset.head()"
   ]
  },
  {
   "cell_type": "code",
   "execution_count": 11,
   "id": "73ff9865",
   "metadata": {
    "execution": {
     "iopub.execute_input": "2022-11-19T10:15:05.659390Z",
     "iopub.status.busy": "2022-11-19T10:15:05.658680Z",
     "iopub.status.idle": "2022-11-19T10:15:05.665862Z",
     "shell.execute_reply": "2022-11-19T10:15:05.665104Z"
    },
    "papermill": {
     "duration": 0.019181,
     "end_time": "2022-11-19T10:15:05.667982",
     "exception": false,
     "start_time": "2022-11-19T10:15:05.648801",
     "status": "completed"
    },
    "tags": []
   },
   "outputs": [],
   "source": [
    "X = car_dataset.drop(['Car_Name','Selling_Price'],axis=1)\n",
    "Y = car_dataset['Selling_Price']"
   ]
  },
  {
   "cell_type": "code",
   "execution_count": 12,
   "id": "7701593b",
   "metadata": {
    "execution": {
     "iopub.execute_input": "2022-11-19T10:15:05.695983Z",
     "iopub.status.busy": "2022-11-19T10:15:05.695410Z",
     "iopub.status.idle": "2022-11-19T10:15:05.709256Z",
     "shell.execute_reply": "2022-11-19T10:15:05.707758Z"
    },
    "papermill": {
     "duration": 0.036605,
     "end_time": "2022-11-19T10:15:05.712784",
     "exception": false,
     "start_time": "2022-11-19T10:15:05.676179",
     "status": "completed"
    },
    "tags": []
   },
   "outputs": [
    {
     "name": "stdout",
     "output_type": "stream",
     "text": [
      "     Year  Present_Price  Driven_kms  Fuel_Type  Selling_type  Transmission  \\\n",
      "0    2014           5.59       27000          0             0             0   \n",
      "1    2013           9.54       43000          1             0             0   \n",
      "2    2017           9.85        6900          0             0             0   \n",
      "3    2011           4.15        5200          0             0             0   \n",
      "4    2014           6.87       42450          1             0             0   \n",
      "..    ...            ...         ...        ...           ...           ...   \n",
      "296  2016          11.60       33988          1             0             0   \n",
      "297  2015           5.90       60000          0             0             0   \n",
      "298  2009          11.00       87934          0             0             0   \n",
      "299  2017          12.50        9000          1             0             0   \n",
      "300  2016           5.90        5464          0             0             0   \n",
      "\n",
      "     Owner  \n",
      "0        0  \n",
      "1        0  \n",
      "2        0  \n",
      "3        0  \n",
      "4        0  \n",
      "..     ...  \n",
      "296      0  \n",
      "297      0  \n",
      "298      0  \n",
      "299      0  \n",
      "300      0  \n",
      "\n",
      "[301 rows x 7 columns]\n"
     ]
    }
   ],
   "source": [
    "print(X)"
   ]
  },
  {
   "cell_type": "code",
   "execution_count": 13,
   "id": "fc216348",
   "metadata": {
    "execution": {
     "iopub.execute_input": "2022-11-19T10:15:05.740138Z",
     "iopub.status.busy": "2022-11-19T10:15:05.738761Z",
     "iopub.status.idle": "2022-11-19T10:15:05.748939Z",
     "shell.execute_reply": "2022-11-19T10:15:05.747675Z"
    },
    "papermill": {
     "duration": 0.027359,
     "end_time": "2022-11-19T10:15:05.751828",
     "exception": false,
     "start_time": "2022-11-19T10:15:05.724469",
     "status": "completed"
    },
    "tags": []
   },
   "outputs": [
    {
     "name": "stdout",
     "output_type": "stream",
     "text": [
      "0       3.35\n",
      "1       4.75\n",
      "2       7.25\n",
      "3       2.85\n",
      "4       4.60\n",
      "       ...  \n",
      "296     9.50\n",
      "297     4.00\n",
      "298     3.35\n",
      "299    11.50\n",
      "300     5.30\n",
      "Name: Selling_Price, Length: 301, dtype: float64\n"
     ]
    }
   ],
   "source": [
    "print(Y)"
   ]
  },
  {
   "cell_type": "code",
   "execution_count": 14,
   "id": "20b15c42",
   "metadata": {
    "execution": {
     "iopub.execute_input": "2022-11-19T10:15:05.778410Z",
     "iopub.status.busy": "2022-11-19T10:15:05.777822Z",
     "iopub.status.idle": "2022-11-19T10:15:05.785674Z",
     "shell.execute_reply": "2022-11-19T10:15:05.784789Z"
    },
    "papermill": {
     "duration": 0.02494,
     "end_time": "2022-11-19T10:15:05.787962",
     "exception": false,
     "start_time": "2022-11-19T10:15:05.763022",
     "status": "completed"
    },
    "tags": []
   },
   "outputs": [],
   "source": [
    "X_train, X_test, Y_train, Y_test = train_test_split(X, Y, test_size = 0.25, random_state=2)"
   ]
  },
  {
   "cell_type": "code",
   "execution_count": 15,
   "id": "9654fe34",
   "metadata": {
    "execution": {
     "iopub.execute_input": "2022-11-19T10:15:05.806973Z",
     "iopub.status.busy": "2022-11-19T10:15:05.806566Z",
     "iopub.status.idle": "2022-11-19T10:15:05.811342Z",
     "shell.execute_reply": "2022-11-19T10:15:05.810079Z"
    },
    "papermill": {
     "duration": 0.01744,
     "end_time": "2022-11-19T10:15:05.813997",
     "exception": false,
     "start_time": "2022-11-19T10:15:05.796557",
     "status": "completed"
    },
    "tags": []
   },
   "outputs": [],
   "source": [
    "# loading the linear regression model\n",
    "lin_reg_model = LinearRegression()"
   ]
  },
  {
   "cell_type": "code",
   "execution_count": 16,
   "id": "4cf30703",
   "metadata": {
    "execution": {
     "iopub.execute_input": "2022-11-19T10:15:05.833895Z",
     "iopub.status.busy": "2022-11-19T10:15:05.833484Z",
     "iopub.status.idle": "2022-11-19T10:15:05.859665Z",
     "shell.execute_reply": "2022-11-19T10:15:05.858339Z"
    },
    "papermill": {
     "duration": 0.039265,
     "end_time": "2022-11-19T10:15:05.862140",
     "exception": false,
     "start_time": "2022-11-19T10:15:05.822875",
     "status": "completed"
    },
    "tags": []
   },
   "outputs": [
    {
     "data": {
      "text/html": [
       "<style>#sk-container-id-1 {color: black;}#sk-container-id-1 pre{padding: 0;}#sk-container-id-1 div.sk-toggleable {background-color: white;}#sk-container-id-1 label.sk-toggleable__label {cursor: pointer;display: block;width: 100%;margin-bottom: 0;padding: 0.3em;box-sizing: border-box;text-align: center;}#sk-container-id-1 label.sk-toggleable__label-arrow:before {content: \"▸\";float: left;margin-right: 0.25em;color: #696969;}#sk-container-id-1 label.sk-toggleable__label-arrow:hover:before {color: black;}#sk-container-id-1 div.sk-estimator:hover label.sk-toggleable__label-arrow:before {color: black;}#sk-container-id-1 div.sk-toggleable__content {max-height: 0;max-width: 0;overflow: hidden;text-align: left;background-color: #f0f8ff;}#sk-container-id-1 div.sk-toggleable__content pre {margin: 0.2em;color: black;border-radius: 0.25em;background-color: #f0f8ff;}#sk-container-id-1 input.sk-toggleable__control:checked~div.sk-toggleable__content {max-height: 200px;max-width: 100%;overflow: auto;}#sk-container-id-1 input.sk-toggleable__control:checked~label.sk-toggleable__label-arrow:before {content: \"▾\";}#sk-container-id-1 div.sk-estimator input.sk-toggleable__control:checked~label.sk-toggleable__label {background-color: #d4ebff;}#sk-container-id-1 div.sk-label input.sk-toggleable__control:checked~label.sk-toggleable__label {background-color: #d4ebff;}#sk-container-id-1 input.sk-hidden--visually {border: 0;clip: rect(1px 1px 1px 1px);clip: rect(1px, 1px, 1px, 1px);height: 1px;margin: -1px;overflow: hidden;padding: 0;position: absolute;width: 1px;}#sk-container-id-1 div.sk-estimator {font-family: monospace;background-color: #f0f8ff;border: 1px dotted black;border-radius: 0.25em;box-sizing: border-box;margin-bottom: 0.5em;}#sk-container-id-1 div.sk-estimator:hover {background-color: #d4ebff;}#sk-container-id-1 div.sk-parallel-item::after {content: \"\";width: 100%;border-bottom: 1px solid gray;flex-grow: 1;}#sk-container-id-1 div.sk-label:hover label.sk-toggleable__label {background-color: #d4ebff;}#sk-container-id-1 div.sk-serial::before {content: \"\";position: absolute;border-left: 1px solid gray;box-sizing: border-box;top: 0;bottom: 0;left: 50%;z-index: 0;}#sk-container-id-1 div.sk-serial {display: flex;flex-direction: column;align-items: center;background-color: white;padding-right: 0.2em;padding-left: 0.2em;position: relative;}#sk-container-id-1 div.sk-item {position: relative;z-index: 1;}#sk-container-id-1 div.sk-parallel {display: flex;align-items: stretch;justify-content: center;background-color: white;position: relative;}#sk-container-id-1 div.sk-item::before, #sk-container-id-1 div.sk-parallel-item::before {content: \"\";position: absolute;border-left: 1px solid gray;box-sizing: border-box;top: 0;bottom: 0;left: 50%;z-index: -1;}#sk-container-id-1 div.sk-parallel-item {display: flex;flex-direction: column;z-index: 1;position: relative;background-color: white;}#sk-container-id-1 div.sk-parallel-item:first-child::after {align-self: flex-end;width: 50%;}#sk-container-id-1 div.sk-parallel-item:last-child::after {align-self: flex-start;width: 50%;}#sk-container-id-1 div.sk-parallel-item:only-child::after {width: 0;}#sk-container-id-1 div.sk-dashed-wrapped {border: 1px dashed gray;margin: 0 0.4em 0.5em 0.4em;box-sizing: border-box;padding-bottom: 0.4em;background-color: white;}#sk-container-id-1 div.sk-label label {font-family: monospace;font-weight: bold;display: inline-block;line-height: 1.2em;}#sk-container-id-1 div.sk-label-container {text-align: center;}#sk-container-id-1 div.sk-container {/* jupyter's `normalize.less` sets `[hidden] { display: none; }` but bootstrap.min.css set `[hidden] { display: none !important; }` so we also need the `!important` here to be able to override the default hidden behavior on the sphinx rendered scikit-learn.org. See: https://github.com/scikit-learn/scikit-learn/issues/21755 */display: inline-block !important;position: relative;}#sk-container-id-1 div.sk-text-repr-fallback {display: none;}</style><div id=\"sk-container-id-1\" class=\"sk-top-container\"><div class=\"sk-text-repr-fallback\"><pre>LinearRegression()</pre><b>In a Jupyter environment, please rerun this cell to show the HTML representation or trust the notebook. <br />On GitHub, the HTML representation is unable to render, please try loading this page with nbviewer.org.</b></div><div class=\"sk-container\" hidden><div class=\"sk-item\"><div class=\"sk-estimator sk-toggleable\"><input class=\"sk-toggleable__control sk-hidden--visually\" id=\"sk-estimator-id-1\" type=\"checkbox\" checked><label for=\"sk-estimator-id-1\" class=\"sk-toggleable__label sk-toggleable__label-arrow\">LinearRegression</label><div class=\"sk-toggleable__content\"><pre>LinearRegression()</pre></div></div></div></div></div>"
      ],
      "text/plain": [
       "LinearRegression()"
      ]
     },
     "execution_count": 16,
     "metadata": {},
     "output_type": "execute_result"
    }
   ],
   "source": [
    "lin_reg_model.fit(X_train,Y_train)"
   ]
  },
  {
   "cell_type": "code",
   "execution_count": 17,
   "id": "9525762b",
   "metadata": {
    "execution": {
     "iopub.execute_input": "2022-11-19T10:15:05.881857Z",
     "iopub.status.busy": "2022-11-19T10:15:05.880806Z",
     "iopub.status.idle": "2022-11-19T10:15:05.888672Z",
     "shell.execute_reply": "2022-11-19T10:15:05.887818Z"
    },
    "papermill": {
     "duration": 0.020377,
     "end_time": "2022-11-19T10:15:05.891309",
     "exception": false,
     "start_time": "2022-11-19T10:15:05.870932",
     "status": "completed"
    },
    "tags": []
   },
   "outputs": [],
   "source": [
    "# prediction on Training data\n",
    "training_data_prediction = lin_reg_model.predict(X_train)"
   ]
  },
  {
   "cell_type": "code",
   "execution_count": 18,
   "id": "1ae7be64",
   "metadata": {
    "execution": {
     "iopub.execute_input": "2022-11-19T10:15:05.911667Z",
     "iopub.status.busy": "2022-11-19T10:15:05.911276Z",
     "iopub.status.idle": "2022-11-19T10:15:05.918026Z",
     "shell.execute_reply": "2022-11-19T10:15:05.916827Z"
    },
    "papermill": {
     "duration": 0.019748,
     "end_time": "2022-11-19T10:15:05.920318",
     "exception": false,
     "start_time": "2022-11-19T10:15:05.900570",
     "status": "completed"
    },
    "tags": []
   },
   "outputs": [
    {
     "name": "stdout",
     "output_type": "stream",
     "text": [
      "R squared Error :  0.8841842523879989\n"
     ]
    }
   ],
   "source": [
    "# R squared Error\n",
    "error_score = metrics.r2_score(Y_train, training_data_prediction)\n",
    "print(\"R squared Error : \", error_score)"
   ]
  },
  {
   "cell_type": "code",
   "execution_count": 19,
   "id": "da53d320",
   "metadata": {
    "execution": {
     "iopub.execute_input": "2022-11-19T10:15:05.942029Z",
     "iopub.status.busy": "2022-11-19T10:15:05.941122Z",
     "iopub.status.idle": "2022-11-19T10:15:06.210276Z",
     "shell.execute_reply": "2022-11-19T10:15:06.209086Z"
    },
    "papermill": {
     "duration": 0.283919,
     "end_time": "2022-11-19T10:15:06.213836",
     "exception": false,
     "start_time": "2022-11-19T10:15:05.929917",
     "status": "completed"
    },
    "tags": []
   },
   "outputs": [
    {
     "data": {
      "image/png": "[encoded data removed]",
      "text/plain": [
       "<Figure size 640x480 with 1 Axes>"
      ]
     },
     "metadata": {},
     "output_type": "display_data"
    }
   ],
   "source": [
    "plt.scatter(Y_train, training_data_prediction)\n",
    "plt.xlabel(\"Actual Price\")\n",
    "plt.ylabel(\"Predicted Price\")\n",
    "plt.title(\" Actual Prices vs Predicted Prices\")\n",
    "plt.show()"
   ]
  },
  {
   "cell_type": "code",
   "execution_count": 20,
   "id": "54ef6018",
   "metadata": {
    "execution": {
     "iopub.execute_input": "2022-11-19T10:15:06.239238Z",
     "iopub.status.busy": "2022-11-19T10:15:06.238826Z",
     "iopub.status.idle": "2022-11-19T10:15:06.256371Z",
     "shell.execute_reply": "2022-11-19T10:15:06.252275Z"
    },
    "papermill": {
     "duration": 0.031456,
     "end_time": "2022-11-19T10:15:06.259015",
     "exception": false,
     "start_time": "2022-11-19T10:15:06.227559",
     "status": "completed"
    },
    "tags": []
   },
   "outputs": [],
   "source": [
    "# prediction on Training data\n",
    "test_data_prediction = lin_reg_model.predict(X_test)"
   ]
  },
  {
   "cell_type": "code",
   "execution_count": 21,
   "id": "75a49e34",
   "metadata": {
    "execution": {
     "iopub.execute_input": "2022-11-19T10:15:06.278846Z",
     "iopub.status.busy": "2022-11-19T10:15:06.278424Z",
     "iopub.status.idle": "2022-11-19T10:15:06.286190Z",
     "shell.execute_reply": "2022-11-19T10:15:06.284735Z"
    },
    "papermill": {
     "duration": 0.02088,
     "end_time": "2022-11-19T10:15:06.288923",
     "exception": false,
     "start_time": "2022-11-19T10:15:06.268043",
     "status": "completed"
    },
    "tags": []
   },
   "outputs": [
    {
     "name": "stdout",
     "output_type": "stream",
     "text": [
      "R squared Error :  0.8340671431714007\n"
     ]
    }
   ],
   "source": [
    "# R squared Error\n",
    "error_score = metrics.r2_score(Y_test, test_data_prediction)\n",
    "print(\"R squared Error : \", error_score)"
   ]
  },
  {
   "cell_type": "code",
   "execution_count": 22,
   "id": "c806acf0",
   "metadata": {
    "execution": {
     "iopub.execute_input": "2022-11-19T10:15:06.308997Z",
     "iopub.status.busy": "2022-11-19T10:15:06.308556Z",
     "iopub.status.idle": "2022-11-19T10:15:06.523514Z",
     "shell.execute_reply": "2022-11-19T10:15:06.522176Z"
    },
    "papermill": {
     "duration": 0.228215,
     "end_time": "2022-11-19T10:15:06.526275",
     "exception": false,
     "start_time": "2022-11-19T10:15:06.298060",
     "status": "completed"
    },
    "tags": []
   },
   "outputs": [
    {
     "data": {
      "image/png": "[encoded data removed]",
      "text/plain": [
       "<Figure size 640x480 with 1 Axes>"
      ]
     },
     "metadata": {},
     "output_type": "display_data"
    }
   ],
   "source": [
    "plt.scatter(Y_test, test_data_prediction)\n",
    "plt.xlabel(\"Actual Price\")\n",
    "plt.ylabel(\"Predicted Price\")\n",
    "plt.title(\" Actual Prices vs Predicted Prices\")\n",
    "plt.show()"
   ]
  },
  {
   "cell_type": "code",
   "execution_count": 23,
   "id": "7e6cdb6c",
   "metadata": {
    "execution": {
     "iopub.execute_input": "2022-11-19T10:15:06.546972Z",
     "iopub.status.busy": "2022-11-19T10:15:06.546518Z",
     "iopub.status.idle": "2022-11-19T10:15:06.551524Z",
     "shell.execute_reply": "2022-11-19T10:15:06.550337Z"
    },
    "papermill": {
     "duration": 0.017973,
     "end_time": "2022-11-19T10:15:06.553807",
     "exception": false,
     "start_time": "2022-11-19T10:15:06.535834",
     "status": "completed"
    },
    "tags": []
   },
   "outputs": [],
   "source": [
    "# loading the linear regression model\n",
    "lass_reg_model = Lasso()"
   ]
  },
  {
   "cell_type": "code",
   "execution_count": 24,
   "id": "fa6869cf",
   "metadata": {
    "execution": {
     "iopub.execute_input": "2022-11-19T10:15:06.574392Z",
     "iopub.status.busy": "2022-11-19T10:15:06.574008Z",
     "iopub.status.idle": "2022-11-19T10:15:06.586549Z",
     "shell.execute_reply": "2022-11-19T10:15:06.585389Z"
    },
    "papermill": {
     "duration": 0.025849,
     "end_time": "2022-11-19T10:15:06.589060",
     "exception": false,
     "start_time": "2022-11-19T10:15:06.563211",
     "status": "completed"
    },
    "tags": []
   },
   "outputs": [
    {
     "data": {
      "text/html": [
       "<style>#sk-container-id-2 {color: black;}#sk-container-id-2 pre{padding: 0;}#sk-container-id-2 div.sk-toggleable {background-color: white;}#sk-container-id-2 label.sk-toggleable__label {cursor: pointer;display: block;width: 100%;margin-bottom: 0;padding: 0.3em;box-sizing: border-box;text-align: center;}#sk-container-id-2 label.sk-toggleable__label-arrow:before {content: \"▸\";float: left;margin-right: 0.25em;color: #696969;}#sk-container-id-2 label.sk-toggleable__label-arrow:hover:before {color: black;}#sk-container-id-2 div.sk-estimator:hover label.sk-toggleable__label-arrow:before {color: black;}#sk-container-id-2 div.sk-toggleable__content {max-height: 0;max-width: 0;overflow: hidden;text-align: left;background-color: #f0f8ff;}#sk-container-id-2 div.sk-toggleable__content pre {margin: 0.2em;color: black;border-radius: 0.25em;background-color: #f0f8ff;}#sk-container-id-2 input.sk-toggleable__control:checked~div.sk-toggleable__content {max-height: 200px;max-width: 100%;overflow: auto;}#sk-container-id-2 input.sk-toggleable__control:checked~label.sk-toggleable__label-arrow:before {content: \"▾\";}#sk-container-id-2 div.sk-estimator input.sk-toggleable__control:checked~label.sk-toggleable__label {background-color: #d4ebff;}#sk-container-id-2 div.sk-label input.sk-toggleable__control:checked~label.sk-toggleable__label {background-color: #d4ebff;}#sk-container-id-2 input.sk-hidden--visually {border: 0;clip: rect(1px 1px 1px 1px);clip: rect(1px, 1px, 1px, 1px);height: 1px;margin: -1px;overflow: hidden;padding: 0;position: absolute;width: 1px;}#sk-container-id-2 div.sk-estimator {font-family: monospace;background-color: #f0f8ff;border: 1px dotted black;border-radius: 0.25em;box-sizing: border-box;margin-bottom: 0.5em;}#sk-container-id-2 div.sk-estimator:hover {background-color: #d4ebff;}#sk-container-id-2 div.sk-parallel-item::after {content: \"\";width: 100%;border-bottom: 1px solid gray;flex-grow: 1;}#sk-container-id-2 div.sk-label:hover label.sk-toggleable__label {background-color: #d4ebff;}#sk-container-id-2 div.sk-serial::before {content: \"\";position: absolute;border-left: 1px solid gray;box-sizing: border-box;top: 0;bottom: 0;left: 50%;z-index: 0;}#sk-container-id-2 div.sk-serial {display: flex;flex-direction: column;align-items: center;background-color: white;padding-right: 0.2em;padding-left: 0.2em;position: relative;}#sk-container-id-2 div.sk-item {position: relative;z-index: 1;}#sk-container-id-2 div.sk-parallel {display: flex;align-items: stretch;justify-content: center;background-color: white;position: relative;}#sk-container-id-2 div.sk-item::before, #sk-container-id-2 div.sk-parallel-item::before {content: \"\";position: absolute;border-left: 1px solid gray;box-sizing: border-box;top: 0;bottom: 0;left: 50%;z-index: -1;}#sk-container-id-2 div.sk-parallel-item {display: flex;flex-direction: column;z-index: 1;position: relative;background-color: white;}#sk-container-id-2 div.sk-parallel-item:first-child::after {align-self: flex-end;width: 50%;}#sk-container-id-2 div.sk-parallel-item:last-child::after {align-self: flex-start;width: 50%;}#sk-container-id-2 div.sk-parallel-item:only-child::after {width: 0;}#sk-container-id-2 div.sk-dashed-wrapped {border: 1px dashed gray;margin: 0 0.4em 0.5em 0.4em;box-sizing: border-box;padding-bottom: 0.4em;background-color: white;}#sk-container-id-2 div.sk-label label {font-family: monospace;font-weight: bold;display: inline-block;line-height: 1.2em;}#sk-container-id-2 div.sk-label-container {text-align: center;}#sk-container-id-2 div.sk-container {/* jupyter's `normalize.less` sets `[hidden] { display: none; }` but bootstrap.min.css set `[hidden] { display: none !important; }` so we also need the `!important` here to be able to override the default hidden behavior on the sphinx rendered scikit-learn.org. See: https://github.com/scikit-learn/scikit-learn/issues/21755 */display: inline-block !important;position: relative;}#sk-container-id-2 div.sk-text-repr-fallback {display: none;}</style><div id=\"sk-container-id-2\" class=\"sk-top-container\"><div class=\"sk-text-repr-fallback\"><pre>Lasso()</pre><b>In a Jupyter environment, please rerun this cell to show the HTML representation or trust the notebook. <br />On GitHub, the HTML representation is unable to render, please try loading this page with nbviewer.org.</b></div><div class=\"sk-container\" hidden><div class=\"sk-item\"><div class=\"sk-estimator sk-toggleable\"><input class=\"sk-toggleable__control sk-hidden--visually\" id=\"sk-estimator-id-2\" type=\"checkbox\" checked><label for=\"sk-estimator-id-2\" class=\"sk-toggleable__label sk-toggleable__label-arrow\">Lasso</label><div class=\"sk-toggleable__content\"><pre>Lasso()</pre></div></div></div></div></div>"
      ],
      "text/plain": [
       "Lasso()"
      ]
     },
     "execution_count": 24,
     "metadata": {},
     "output_type": "execute_result"
    }
   ],
   "source": [
    "lass_reg_model.fit(X_train,Y_train)"
   ]
  },
  {
   "cell_type": "code",
   "execution_count": 25,
   "id": "565396c5",
   "metadata": {
    "execution": {
     "iopub.execute_input": "2022-11-19T10:15:06.610540Z",
     "iopub.status.busy": "2022-11-19T10:15:06.609333Z",
     "iopub.status.idle": "2022-11-19T10:15:06.617685Z",
     "shell.execute_reply": "2022-11-19T10:15:06.616595Z"
    },
    "papermill": {
     "duration": 0.021542,
     "end_time": "2022-11-19T10:15:06.620132",
     "exception": false,
     "start_time": "2022-11-19T10:15:06.598590",
     "status": "completed"
    },
    "tags": []
   },
   "outputs": [],
   "source": [
    "# prediction on Training data\n",
    "training_data_prediction = lass_reg_model.predict(X_train)"
   ]
  },
  {
   "cell_type": "code",
   "execution_count": 26,
   "id": "d0b07ca8",
   "metadata": {
    "execution": {
     "iopub.execute_input": "2022-11-19T10:15:06.641548Z",
     "iopub.status.busy": "2022-11-19T10:15:06.641047Z",
     "iopub.status.idle": "2022-11-19T10:15:06.648610Z",
     "shell.execute_reply": "2022-11-19T10:15:06.647424Z"
    },
    "papermill": {
     "duration": 0.021487,
     "end_time": "2022-11-19T10:15:06.651104",
     "exception": false,
     "start_time": "2022-11-19T10:15:06.629617",
     "status": "completed"
    },
    "tags": []
   },
   "outputs": [
    {
     "name": "stdout",
     "output_type": "stream",
     "text": [
      "R squared Error :  0.8424105911339425\n"
     ]
    }
   ],
   "source": [
    "# R squared Error\n",
    "error_score = metrics.r2_score(Y_train, training_data_prediction)\n",
    "print(\"R squared Error : \", error_score)"
   ]
  },
  {
   "cell_type": "code",
   "execution_count": 27,
   "id": "28e592d8",
   "metadata": {
    "execution": {
     "iopub.execute_input": "2022-11-19T10:15:06.672834Z",
     "iopub.status.busy": "2022-11-19T10:15:06.671541Z",
     "iopub.status.idle": "2022-11-19T10:15:06.881286Z",
     "shell.execute_reply": "2022-11-19T10:15:06.880120Z"
    },
    "papermill": {
     "duration": 0.223444,
     "end_time": "2022-11-19T10:15:06.884110",
     "exception": false,
     "start_time": "2022-11-19T10:15:06.660666",
     "status": "completed"
    },
    "tags": []
   },
   "outputs": [
    {
     "data": {
      "image/png": "[encoded data removed]",
      "text/plain": [
       "<Figure size 640x480 with 1 Axes>"
      ]
     },
     "metadata": {},
     "output_type": "display_data"
    }
   ],
   "source": [
    "plt.scatter(Y_train, training_data_prediction)\n",
    "plt.xlabel(\"Actual Price\")\n",
    "plt.ylabel(\"Predicted Price\")\n",
    "plt.title(\" Actual Prices vs Predicted Prices\")\n",
    "plt.show()"
   ]
  },
  {
   "cell_type": "code",
   "execution_count": 28,
   "id": "d513c1e4",
   "metadata": {
    "execution": {
     "iopub.execute_input": "2022-11-19T10:15:06.906231Z",
     "iopub.status.busy": "2022-11-19T10:15:06.905423Z",
     "iopub.status.idle": "2022-11-19T10:15:06.914200Z",
     "shell.execute_reply": "2022-11-19T10:15:06.912770Z"
    },
    "papermill": {
     "duration": 0.022842,
     "end_time": "2022-11-19T10:15:06.916931",
     "exception": false,
     "start_time": "2022-11-19T10:15:06.894089",
     "status": "completed"
    },
    "tags": []
   },
   "outputs": [],
   "source": [
    "# prediction on Training data\n",
    "test_data_prediction = lass_reg_model.predict(X_test)"
   ]
  },
  {
   "cell_type": "code",
   "execution_count": 29,
   "id": "a9e8781e",
   "metadata": {
    "execution": {
     "iopub.execute_input": "2022-11-19T10:15:06.938347Z",
     "iopub.status.busy": "2022-11-19T10:15:06.937932Z",
     "iopub.status.idle": "2022-11-19T10:15:06.945122Z",
     "shell.execute_reply": "2022-11-19T10:15:06.943829Z"
    },
    "papermill": {
     "duration": 0.020353,
     "end_time": "2022-11-19T10:15:06.947300",
     "exception": false,
     "start_time": "2022-11-19T10:15:06.926947",
     "status": "completed"
    },
    "tags": []
   },
   "outputs": [
    {
     "name": "stdout",
     "output_type": "stream",
     "text": [
      "R squared Error :  0.8488371767957702\n"
     ]
    }
   ],
   "source": [
    "# R squared Error\n",
    "error_score = metrics.r2_score(Y_test, test_data_prediction)\n",
    "print(\"R squared Error : \", error_score)"
   ]
  },
  {
   "cell_type": "code",
   "execution_count": 30,
   "id": "f40a6796",
   "metadata": {
    "execution": {
     "iopub.execute_input": "2022-11-19T10:15:06.968944Z",
     "iopub.status.busy": "2022-11-19T10:15:06.968520Z",
     "iopub.status.idle": "2022-11-19T10:15:07.179639Z",
     "shell.execute_reply": "2022-11-19T10:15:07.178218Z"
    },
    "papermill": {
     "duration": 0.225617,
     "end_time": "2022-11-19T10:15:07.182707",
     "exception": false,
     "start_time": "2022-11-19T10:15:06.957090",
     "status": "completed"
    },
    "tags": []
   },
   "outputs": [
    {
     "data": {
      "image/png": "[encoded data removed]",
      "text/plain": [
       "<Figure size 640x480 with 1 Axes>"
      ]
     },
     "metadata": {},
     "output_type": "display_data"
    }
   ],
   "source": [
    "plt.scatter(Y_test, test_data_prediction)\n",
    "plt.xlabel(\"Actual Price\")\n",
    "plt.ylabel(\"Predicted Price\")\n",
    "plt.title(\" Actual Prices vs Predicted Prices\")\n",
    "plt.show()"
   ]
  }
 ],
 "metadata": {
  "kernelspec": {
   "display_name": "Python 3 (ipykernel)",
   "language": "python",
   "name": "python3"
  },
  "language_info": {
   "codemirror_mode": {
    "name": "ipython",
    "version": 3
   },
   "file_extension": ".py",
   "mimetype": "text/x-python",
   "name": "python",
   "nbconvert_exporter": "python",
   "pygments_lexer": "ipython3",
   "version": "3.10.11"
  },
  "papermill": {
   "default_parameters": {},
   "duration": 13.361945,
   "end_time": "2022-11-19T10:15:08.037423",
   "environment_variables": {},
   "exception": null,
   "input_path": "__notebook__.ipynb",
   "output_path": "__notebook__.ipynb",
   "parameters": {},
   "start_time": "2022-11-19T10:14:54.675478",
   "version": "2.3.4"
  }
 },
 "nbformat": 4,
 "nbformat_minor": 5
}
